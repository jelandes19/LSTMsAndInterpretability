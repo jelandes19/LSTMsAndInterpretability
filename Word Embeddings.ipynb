{
 "cells": [
  {
   "cell_type": "code",
   "execution_count": 1,
   "metadata": {},
   "outputs": [],
   "source": [
    "import numpy as np\n",
    "import json\n",
    "import tensorflow as tf"
   ]
  },
  {
   "cell_type": "code",
   "execution_count": 2,
   "metadata": {},
   "outputs": [],
   "source": [
    "import math\n",
    "import collections \n",
    "import random\n",
    "import os"
   ]
  },
  {
   "cell_type": "code",
   "execution_count": 3,
   "metadata": {},
   "outputs": [],
   "source": [
    "def get_dicts():\n",
    "    with open('vocab_dictionary.json', 'r') as f:\n",
    "        vocab_dictionary = json.load(f)\n",
    "    with open('reversed_dictionary.json', 'r') as f:\n",
    "        reversed_dictionary = json.load(f)\n",
    "    with open('wordcount.json', 'r') as f:\n",
    "        word_count = json.load(f)\n",
    "    with open(\"dataloc.txt\", \"r\") as f:\n",
    "        data = []\n",
    "        for line in f:\n",
    "            data.append(line)\n",
    "    return data, vocab_dictionary, reversed_dictionary, word_count"
   ]
  },
  {
   "cell_type": "code",
   "execution_count": 4,
   "metadata": {},
   "outputs": [
    {
     "name": "stdout",
     "output_type": "stream",
     "text": [
      "done\n",
      "CPU times: user 2min 17s, sys: 26.8 s, total: 2min 44s\n",
      "Wall time: 5min 27s\n"
     ]
    }
   ],
   "source": [
    "%%time\n",
    "data, vocab_dictionary, reversed_dictionary, word_count = get_dicts()\n",
    "print(\"done\")"
   ]
  },
  {
   "cell_type": "code",
   "execution_count": 5,
   "metadata": {},
   "outputs": [],
   "source": [
    "data_index = 0\n",
    "def generate_batch(batch_size, data, num_skips, skip_window):\n",
    "    global data_index\n",
    "    assert batch_size % num_skips == 0\n",
    "    assert num_skips <= 2 * skip_window\n",
    "    batch = np.ndarray(shape=(batch_size), dtype=np.int32)\n",
    "    labels = np.ndarray(shape=(batch_size, 1), dtype=np.int32)\n",
    "    span = 2 * skip_window + 1  # [ skip_window target skip_window ]\n",
    "    buffer = collections.deque(maxlen=span)  # pylint: disable=redefined-builtin\n",
    "    if data_index + span > len(data):\n",
    "        data_index = 0\n",
    "    buffer.extend(data[data_index:data_index + span])\n",
    "    data_index += span\n",
    "    for i in range(batch_size // num_skips):\n",
    "        context_words = [w for w in range(span) if w != skip_window]\n",
    "        words_to_use = random.sample(context_words, num_skips)\n",
    "        for j, context_word in enumerate(words_to_use):\n",
    "            batch[i * num_skips + j] = buffer[skip_window]\n",
    "            labels[i * num_skips + j, 0] = buffer[context_word]\n",
    "            \n",
    "        if data_index == len(data):\n",
    "            buffer.extend(data[0:span])\n",
    "            data_index = span\n",
    "        else:\n",
    "            buffer.append(data[data_index])\n",
    "            data_index += 1\n",
    "    # Backtrack a little bit to avoid skipping words in the end of a batch\n",
    "    data_index = (data_index + len(data) - span) % len(data)\n",
    "    return batch, labels"
   ]
  },
  {
   "cell_type": "markdown",
   "metadata": {},
   "source": [
    "## Parameters for the Word2Vec Model"
   ]
  },
  {
   "cell_type": "code",
   "execution_count": 6,
   "metadata": {},
   "outputs": [],
   "source": [
    "batch_size = 256\n",
    "embedding_size = 512\n",
    "skip_window = 1\n",
    "num_skips = 2\n",
    "num_sampled = 64\n",
    "n_words = 50000\n",
    "\n",
    "valid_size = 16\n",
    "valid_window = 100\n",
    "valid_examples = np.random.choice(valid_window, valid_size, replace=False)"
   ]
  },
  {
   "cell_type": "code",
   "execution_count": 7,
   "metadata": {},
   "outputs": [
    {
     "name": "stdout",
     "output_type": "stream",
     "text": [
      "WARNING:tensorflow:From /Users/JeffyLands/182/anaconda3/lib/python3.7/site-packages/tensorflow/python/framework/op_def_library.py:263: colocate_with (from tensorflow.python.framework.ops) is deprecated and will be removed in a future version.\n",
      "Instructions for updating:\n",
      "Colocations handled automatically by placer.\n",
      "WARNING:tensorflow:From /Users/JeffyLands/182/anaconda3/lib/python3.7/site-packages/tensorflow/python/ops/array_grad.py:425: to_int32 (from tensorflow.python.ops.math_ops) is deprecated and will be removed in a future version.\n",
      "Instructions for updating:\n",
      "Use tf.cast instead.\n"
     ]
    }
   ],
   "source": [
    "graph = tf.Graph()\n",
    "\n",
    "with graph.as_default():\n",
    "    \n",
    "    with tf.name_scope('inputs'):\n",
    "        train_inputs = tf.placeholder(tf.int32, shape=[batch_size])\n",
    "        train_labels = tf.placeholder(tf.int32, shape=[batch_size, 1])\n",
    "        valid_dataset = tf.constant(valid_examples, dtype=tf.int32)\n",
    "    \n",
    "    with tf.name_scope('embeddings'):\n",
    "        embeddings = tf.Variable(\n",
    "            tf.random_uniform([n_words, embedding_size], -1.0, 1.0))\n",
    "        embed = tf.nn.embedding_lookup(embeddings, train_inputs)\n",
    "    \n",
    "    with tf.name_scope(\"weights\"):\n",
    "        \n",
    "        nce_weights = tf.Variable(tf.truncated_normal([n_words, embedding_size],\n",
    "                                stddev=1.0 / math.sqrt(embedding_size)))\n",
    "        \n",
    "    with tf.name_scope('biases'):\n",
    "        \n",
    "        nce_biases = tf.Variable(tf.zeros([n_words]))\n",
    "        \n",
    "    with tf.name_scope('loss'):\n",
    "      loss = tf.reduce_mean(\n",
    "          tf.nn.nce_loss(\n",
    "              weights=nce_weights,\n",
    "              biases=nce_biases,\n",
    "              labels=train_labels,\n",
    "              inputs=embed,\n",
    "              num_sampled=num_sampled,\n",
    "              num_classes=n_words))\n",
    "    \n",
    "    tf.summary.scalar('loss', loss)\n",
    "    \n",
    "    with tf.name_scope('optimizer'):\n",
    "        optimizer = tf.train.GradientDescentOptimizer(1.0).minimize(loss)\n",
    "    \n",
    "    norm = tf.sqrt(tf.reduce_sum(tf.square(embeddings), 1, keepdims=True))\n",
    "    normalized_embeddings = embeddings / norm\n",
    "    valid_embeddings = tf.nn.embedding_lookup(normalized_embeddings,\n",
    "                                              valid_dataset)\n",
    "    similarity = tf.matmul(\n",
    "        valid_embeddings, normalized_embeddings, transpose_b=True)\n",
    "    \n",
    "    merged = tf.summary.merge_all()\n",
    "    \n",
    "    init = tf.global_variables_initializer()\n",
    "    \n",
    "    saver = tf.train.Saver()"
   ]
  },
  {
   "cell_type": "code",
   "execution_count": 8,
   "metadata": {},
   "outputs": [
    {
     "name": "stdout",
     "output_type": "stream",
     "text": [
      "Initialized\n",
      "Average loss at step  0 :  268.5702819824219\n",
      "Average loss at step  5000 :  72.89216162166595\n",
      "Average loss at step  10000 :  22.195492863130568\n",
      "Average loss at step  15000 :  11.500786938548089\n",
      "Average loss at step  20000 :  8.013700315523147\n",
      "Average loss at step  25000 :  6.417343465995788\n",
      "Average loss at step  30000 :  5.797176605558396\n",
      "Average loss at step  35000 :  5.3609576342344285\n",
      "Average loss at step  40000 :  5.390969744110107\n",
      "Average loss at step  45000 :  4.898157170629501\n",
      "Average loss at step  50000 :  4.789572329854965\n",
      "Average loss at step  55000 :  4.668594528675079\n",
      "Average loss at step  60000 :  4.632663997912407\n",
      "Average loss at step  65000 :  4.570204546451569\n",
      "Average loss at step  70000 :  4.500336844372749\n",
      "Average loss at step  75000 :  4.446901403260231\n",
      "Average loss at step  80000 :  4.447044924449921\n",
      "Average loss at step  85000 :  4.359970426797867\n",
      "Average loss at step  90000 :  4.374514587569236\n",
      "Average loss at step  95000 :  4.344972170615196\n",
      "Average loss at step  100000 :  4.352507004117966\n",
      "Average loss at step  105000 :  4.500462482786179\n",
      "Average loss at step  110000 :  4.317752147841453\n",
      "Average loss at step  115000 :  4.2248470145225525\n",
      "Average loss at step  120000 :  4.290612742185592\n",
      "Average loss at step  125000 :  4.293304675269127\n",
      "Average loss at step  130000 :  4.253017660951614\n",
      "Average loss at step  135000 :  4.233802515888214\n"
     ]
    }
   ],
   "source": [
    "n_steps = 135001 # Can increase \n",
    "log_dir = \"182/LSTMsAndInterpretability\"\n",
    "\n",
    "with tf.Session(graph=graph) as session:\n",
    "    \n",
    "    writer = tf.summary.FileWriter(log_dir, session.graph)\n",
    "    \n",
    "    init.run()\n",
    "    print('Initialized')\n",
    "    \n",
    "    average_loss = 0\n",
    "    for step in range(n_steps):\n",
    "        batch_inputs, batch_labels = generate_batch(batch_size,\n",
    "                                                  data,\n",
    "                                                  num_skips,\n",
    "                                                  skip_window)\n",
    "        feed_dict = {train_inputs: batch_inputs, train_labels: batch_labels}\n",
    "        \n",
    "        run_metadata = tf.RunMetadata()\n",
    "    \n",
    "        _, summary, loss_val = session.run([optimizer, merged, loss],\n",
    "                                         feed_dict=feed_dict,\n",
    "                                         run_metadata=run_metadata)\n",
    "    \n",
    "        average_loss += loss_val\n",
    "    \n",
    "        if step % 5000 == 0:\n",
    "            if step > 0:\n",
    "                average_loss /= 5000\n",
    "            # The average loss is an estimate of the loss over the last 5000\n",
    "            # batches.\n",
    "            print('Average loss at step ', step, ': ', average_loss)\n",
    "            average_loss = 0\n",
    "            \n",
    "    final_embeddings = normalized_embeddings.eval()\n",
    "        \n",
    "    saver.save(session, os.path.join(log_dir, 'model.ckpt'))"
   ]
  },
  {
   "cell_type": "code",
   "execution_count": 9,
   "metadata": {},
   "outputs": [],
   "source": [
    "n_words = 50000\n",
    "embeddings_dict = {}\n",
    "for i in range(n_words):\n",
    "    embeddings_dict[i] = final_embeddings[i].tolist()\n",
    "with open('embeddings.json', 'w') as fp:\n",
    "    json.dump(embeddings_dict, fp)"
   ]
  }
 ],
 "metadata": {
  "kernelspec": {
   "display_name": "Python 3",
   "language": "python",
   "name": "python3"
  },
  "language_info": {
   "codemirror_mode": {
    "name": "ipython",
    "version": 3
   },
   "file_extension": ".py",
   "mimetype": "text/x-python",
   "name": "python",
   "nbconvert_exporter": "python",
   "pygments_lexer": "ipython3",
   "version": "3.7.1"
  }
 },
 "nbformat": 4,
 "nbformat_minor": 2
}
