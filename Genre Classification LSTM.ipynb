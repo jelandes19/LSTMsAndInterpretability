{
 "cells": [
  {
   "cell_type": "code",
   "execution_count": 1,
   "metadata": {},
   "outputs": [],
   "source": [
    "import tensorflow as tf\n",
    "import pandas as pd \n",
    "import re\n",
    "import collections\n",
    "import os\n",
    "import numpy as np\n",
    "import math\n",
    "import random\n",
    "from sklearn.manifold import TSNE\n",
    "import matplotlib.pyplot as plt\n",
    "import json"
   ]
  },
  {
   "cell_type": "code",
   "execution_count": 2,
   "metadata": {},
   "outputs": [],
   "source": [
    "def get_dicts():\n",
    "    with open('vocab_dictionary.json', 'r') as f:\n",
    "        vocab_dictionary = json.load(f)\n",
    "    with open('reversed_dictionary.json', 'r') as f:\n",
    "        reversed_dictionary = json.load(f)\n",
    "    with open('embeddings.json', 'r') as f:\n",
    "        final_embeddings = json.load(f)\n",
    "    return vocab_dictionary, reversed_dictionary, final_embeddings"
   ]
  },
  {
   "cell_type": "code",
   "execution_count": 3,
   "metadata": {},
   "outputs": [],
   "source": [
    "vocab_dictionary, reversed_dictionary, final_embeddings = get_dicts()"
   ]
  },
  {
   "cell_type": "code",
   "execution_count": 4,
   "metadata": {},
   "outputs": [],
   "source": [
    "movies = pd.read_csv(\"wiki_movie_plots.csv\")"
   ]
  },
  {
   "cell_type": "code",
   "execution_count": 5,
   "metadata": {},
   "outputs": [
    {
     "data": {
      "text/html": [
       "<div>\n",
       "<style scoped>\n",
       "    .dataframe tbody tr th:only-of-type {\n",
       "        vertical-align: middle;\n",
       "    }\n",
       "\n",
       "    .dataframe tbody tr th {\n",
       "        vertical-align: top;\n",
       "    }\n",
       "\n",
       "    .dataframe thead th {\n",
       "        text-align: right;\n",
       "    }\n",
       "</style>\n",
       "<table border=\"1\" class=\"dataframe\">\n",
       "  <thead>\n",
       "    <tr style=\"text-align: right;\">\n",
       "      <th></th>\n",
       "      <th>Release Year</th>\n",
       "      <th>Title</th>\n",
       "      <th>Origin/Ethnicity</th>\n",
       "      <th>Director</th>\n",
       "      <th>Cast</th>\n",
       "      <th>Genre</th>\n",
       "      <th>Wiki Page</th>\n",
       "      <th>Plot</th>\n",
       "    </tr>\n",
       "  </thead>\n",
       "  <tbody>\n",
       "    <tr>\n",
       "      <th>0</th>\n",
       "      <td>1901</td>\n",
       "      <td>Kansas Saloon Smashers</td>\n",
       "      <td>American</td>\n",
       "      <td>Unknown</td>\n",
       "      <td>NaN</td>\n",
       "      <td>unknown</td>\n",
       "      <td>https://en.wikipedia.org/wiki/Kansas_Saloon_Sm...</td>\n",
       "      <td>A bartender is working at a saloon, serving dr...</td>\n",
       "    </tr>\n",
       "    <tr>\n",
       "      <th>1</th>\n",
       "      <td>1901</td>\n",
       "      <td>Love by the Light of the Moon</td>\n",
       "      <td>American</td>\n",
       "      <td>Unknown</td>\n",
       "      <td>NaN</td>\n",
       "      <td>unknown</td>\n",
       "      <td>https://en.wikipedia.org/wiki/Love_by_the_Ligh...</td>\n",
       "      <td>The moon, painted with a smiling face hangs ov...</td>\n",
       "    </tr>\n",
       "    <tr>\n",
       "      <th>2</th>\n",
       "      <td>1901</td>\n",
       "      <td>The Martyred Presidents</td>\n",
       "      <td>American</td>\n",
       "      <td>Unknown</td>\n",
       "      <td>NaN</td>\n",
       "      <td>unknown</td>\n",
       "      <td>https://en.wikipedia.org/wiki/The_Martyred_Pre...</td>\n",
       "      <td>The film, just over a minute long, is composed...</td>\n",
       "    </tr>\n",
       "    <tr>\n",
       "      <th>3</th>\n",
       "      <td>1901</td>\n",
       "      <td>Terrible Teddy, the Grizzly King</td>\n",
       "      <td>American</td>\n",
       "      <td>Unknown</td>\n",
       "      <td>NaN</td>\n",
       "      <td>unknown</td>\n",
       "      <td>https://en.wikipedia.org/wiki/Terrible_Teddy,_...</td>\n",
       "      <td>Lasting just 61 seconds and consisting of two ...</td>\n",
       "    </tr>\n",
       "    <tr>\n",
       "      <th>4</th>\n",
       "      <td>1902</td>\n",
       "      <td>Jack and the Beanstalk</td>\n",
       "      <td>American</td>\n",
       "      <td>George S. Fleming, Edwin S. Porter</td>\n",
       "      <td>NaN</td>\n",
       "      <td>unknown</td>\n",
       "      <td>https://en.wikipedia.org/wiki/Jack_and_the_Bea...</td>\n",
       "      <td>The earliest known adaptation of the classic f...</td>\n",
       "    </tr>\n",
       "  </tbody>\n",
       "</table>\n",
       "</div>"
      ],
      "text/plain": [
       "   Release Year                             Title Origin/Ethnicity  \\\n",
       "0          1901            Kansas Saloon Smashers         American   \n",
       "1          1901     Love by the Light of the Moon         American   \n",
       "2          1901           The Martyred Presidents         American   \n",
       "3          1901  Terrible Teddy, the Grizzly King         American   \n",
       "4          1902            Jack and the Beanstalk         American   \n",
       "\n",
       "                             Director Cast    Genre  \\\n",
       "0                             Unknown  NaN  unknown   \n",
       "1                             Unknown  NaN  unknown   \n",
       "2                             Unknown  NaN  unknown   \n",
       "3                             Unknown  NaN  unknown   \n",
       "4  George S. Fleming, Edwin S. Porter  NaN  unknown   \n",
       "\n",
       "                                           Wiki Page  \\\n",
       "0  https://en.wikipedia.org/wiki/Kansas_Saloon_Sm...   \n",
       "1  https://en.wikipedia.org/wiki/Love_by_the_Ligh...   \n",
       "2  https://en.wikipedia.org/wiki/The_Martyred_Pre...   \n",
       "3  https://en.wikipedia.org/wiki/Terrible_Teddy,_...   \n",
       "4  https://en.wikipedia.org/wiki/Jack_and_the_Bea...   \n",
       "\n",
       "                                                Plot  \n",
       "0  A bartender is working at a saloon, serving dr...  \n",
       "1  The moon, painted with a smiling face hangs ov...  \n",
       "2  The film, just over a minute long, is composed...  \n",
       "3  Lasting just 61 seconds and consisting of two ...  \n",
       "4  The earliest known adaptation of the classic f...  "
      ]
     },
     "execution_count": 5,
     "metadata": {},
     "output_type": "execute_result"
    }
   ],
   "source": [
    "movies.head()"
   ]
  },
  {
   "cell_type": "code",
   "execution_count": 55,
   "metadata": {},
   "outputs": [],
   "source": [
    "genres_to_consider = [\"drama\", \"comedy\", \"horror\", \"action\", \"thriller\", \"romance\", \"western\"]\n",
    "output_size = len(genres_to_consider)\n",
    "movies = movies[movies['Genre'].isin(genres_to_consider)]"
   ]
  },
  {
   "cell_type": "code",
   "execution_count": 7,
   "metadata": {},
   "outputs": [
    {
     "data": {
      "text/html": [
       "<div>\n",
       "<style scoped>\n",
       "    .dataframe tbody tr th:only-of-type {\n",
       "        vertical-align: middle;\n",
       "    }\n",
       "\n",
       "    .dataframe tbody tr th {\n",
       "        vertical-align: top;\n",
       "    }\n",
       "\n",
       "    .dataframe thead th {\n",
       "        text-align: right;\n",
       "    }\n",
       "</style>\n",
       "<table border=\"1\" class=\"dataframe\">\n",
       "  <thead>\n",
       "    <tr style=\"text-align: right;\">\n",
       "      <th></th>\n",
       "      <th>Release Year</th>\n",
       "      <th>Title</th>\n",
       "      <th>Origin/Ethnicity</th>\n",
       "      <th>Director</th>\n",
       "      <th>Cast</th>\n",
       "      <th>Wiki Page</th>\n",
       "      <th>Plot</th>\n",
       "    </tr>\n",
       "    <tr>\n",
       "      <th>Genre</th>\n",
       "      <th></th>\n",
       "      <th></th>\n",
       "      <th></th>\n",
       "      <th></th>\n",
       "      <th></th>\n",
       "      <th></th>\n",
       "      <th></th>\n",
       "    </tr>\n",
       "  </thead>\n",
       "  <tbody>\n",
       "    <tr>\n",
       "      <th>drama</th>\n",
       "      <td>5964</td>\n",
       "      <td>5964</td>\n",
       "      <td>5964</td>\n",
       "      <td>5964</td>\n",
       "      <td>5841</td>\n",
       "      <td>5964</td>\n",
       "      <td>5964</td>\n",
       "    </tr>\n",
       "    <tr>\n",
       "      <th>comedy</th>\n",
       "      <td>4379</td>\n",
       "      <td>4379</td>\n",
       "      <td>4379</td>\n",
       "      <td>4379</td>\n",
       "      <td>4347</td>\n",
       "      <td>4379</td>\n",
       "      <td>4379</td>\n",
       "    </tr>\n",
       "    <tr>\n",
       "      <th>horror</th>\n",
       "      <td>1167</td>\n",
       "      <td>1167</td>\n",
       "      <td>1167</td>\n",
       "      <td>1167</td>\n",
       "      <td>1124</td>\n",
       "      <td>1167</td>\n",
       "      <td>1167</td>\n",
       "    </tr>\n",
       "    <tr>\n",
       "      <th>action</th>\n",
       "      <td>1098</td>\n",
       "      <td>1098</td>\n",
       "      <td>1098</td>\n",
       "      <td>1098</td>\n",
       "      <td>1087</td>\n",
       "      <td>1098</td>\n",
       "      <td>1098</td>\n",
       "    </tr>\n",
       "    <tr>\n",
       "      <th>thriller</th>\n",
       "      <td>966</td>\n",
       "      <td>966</td>\n",
       "      <td>966</td>\n",
       "      <td>966</td>\n",
       "      <td>955</td>\n",
       "      <td>966</td>\n",
       "      <td>966</td>\n",
       "    </tr>\n",
       "    <tr>\n",
       "      <th>romance</th>\n",
       "      <td>923</td>\n",
       "      <td>923</td>\n",
       "      <td>923</td>\n",
       "      <td>923</td>\n",
       "      <td>918</td>\n",
       "      <td>923</td>\n",
       "      <td>923</td>\n",
       "    </tr>\n",
       "    <tr>\n",
       "      <th>western</th>\n",
       "      <td>865</td>\n",
       "      <td>865</td>\n",
       "      <td>865</td>\n",
       "      <td>865</td>\n",
       "      <td>864</td>\n",
       "      <td>865</td>\n",
       "      <td>865</td>\n",
       "    </tr>\n",
       "  </tbody>\n",
       "</table>\n",
       "</div>"
      ],
      "text/plain": [
       "          Release Year  Title  Origin/Ethnicity  Director  Cast  Wiki Page  \\\n",
       "Genre                                                                        \n",
       "drama             5964   5964              5964      5964  5841       5964   \n",
       "comedy            4379   4379              4379      4379  4347       4379   \n",
       "horror            1167   1167              1167      1167  1124       1167   \n",
       "action            1098   1098              1098      1098  1087       1098   \n",
       "thriller           966    966               966       966   955        966   \n",
       "romance            923    923               923       923   918        923   \n",
       "western            865    865               865       865   864        865   \n",
       "\n",
       "          Plot  \n",
       "Genre           \n",
       "drama     5964  \n",
       "comedy    4379  \n",
       "horror    1167  \n",
       "action    1098  \n",
       "thriller   966  \n",
       "romance    923  \n",
       "western    865  "
      ]
     },
     "execution_count": 7,
     "metadata": {},
     "output_type": "execute_result"
    }
   ],
   "source": [
    "movies.groupby('Genre').count().sort_values(\"Title\", ascending=False)"
   ]
  },
  {
   "cell_type": "code",
   "execution_count": 8,
   "metadata": {},
   "outputs": [
    {
     "data": {
      "text/html": [
       "<div>\n",
       "<style scoped>\n",
       "    .dataframe tbody tr th:only-of-type {\n",
       "        vertical-align: middle;\n",
       "    }\n",
       "\n",
       "    .dataframe tbody tr th {\n",
       "        vertical-align: top;\n",
       "    }\n",
       "\n",
       "    .dataframe thead th {\n",
       "        text-align: right;\n",
       "    }\n",
       "</style>\n",
       "<table border=\"1\" class=\"dataframe\">\n",
       "  <thead>\n",
       "    <tr style=\"text-align: right;\">\n",
       "      <th></th>\n",
       "      <th>Release Year</th>\n",
       "      <th>Title</th>\n",
       "      <th>Origin/Ethnicity</th>\n",
       "      <th>Director</th>\n",
       "      <th>Cast</th>\n",
       "      <th>Genre</th>\n",
       "      <th>Wiki Page</th>\n",
       "      <th>Plot</th>\n",
       "    </tr>\n",
       "  </thead>\n",
       "  <tbody>\n",
       "    <tr>\n",
       "      <th>6</th>\n",
       "      <td>1903</td>\n",
       "      <td>The Great Train Robbery</td>\n",
       "      <td>American</td>\n",
       "      <td>Edwin S. Porter</td>\n",
       "      <td>NaN</td>\n",
       "      <td>western</td>\n",
       "      <td>https://en.wikipedia.org/wiki/The_Great_Train_...</td>\n",
       "      <td>The film opens with two bandits breaking into ...</td>\n",
       "    </tr>\n",
       "    <tr>\n",
       "      <th>7</th>\n",
       "      <td>1904</td>\n",
       "      <td>The Suburbanite</td>\n",
       "      <td>American</td>\n",
       "      <td>Wallace McCutcheon</td>\n",
       "      <td>NaN</td>\n",
       "      <td>comedy</td>\n",
       "      <td>https://en.wikipedia.org/wiki/The_Suburbanite</td>\n",
       "      <td>The film is about a family who move to the sub...</td>\n",
       "    </tr>\n",
       "    <tr>\n",
       "      <th>14</th>\n",
       "      <td>1907</td>\n",
       "      <td>How Brown Saw the Baseball Game</td>\n",
       "      <td>American</td>\n",
       "      <td>Unknown</td>\n",
       "      <td>Unknown</td>\n",
       "      <td>comedy</td>\n",
       "      <td>https://en.wikipedia.org/wiki/How_Brown_Saw_th...</td>\n",
       "      <td>Before heading out to a baseball game at a nea...</td>\n",
       "    </tr>\n",
       "    <tr>\n",
       "      <th>15</th>\n",
       "      <td>1907</td>\n",
       "      <td>Laughing Gas</td>\n",
       "      <td>American</td>\n",
       "      <td>Edwin Stanton Porter</td>\n",
       "      <td>Bertha Regustus, Edward Boulden</td>\n",
       "      <td>comedy</td>\n",
       "      <td>https://en.wikipedia.org/wiki/Laughing_Gas_(fi...</td>\n",
       "      <td>The plot is that of a black woman going to the...</td>\n",
       "    </tr>\n",
       "    <tr>\n",
       "      <th>16</th>\n",
       "      <td>1908</td>\n",
       "      <td>The Adventures of Dollie</td>\n",
       "      <td>American</td>\n",
       "      <td>D. W. Griffith</td>\n",
       "      <td>Arthur V. Johnson, Linda Arvidson</td>\n",
       "      <td>drama</td>\n",
       "      <td>https://en.wikipedia.org/wiki/The_Adventures_o...</td>\n",
       "      <td>On a beautiful summer day a father and mother ...</td>\n",
       "    </tr>\n",
       "  </tbody>\n",
       "</table>\n",
       "</div>"
      ],
      "text/plain": [
       "    Release Year                            Title Origin/Ethnicity  \\\n",
       "6           1903          The Great Train Robbery         American   \n",
       "7           1904                  The Suburbanite         American   \n",
       "14          1907  How Brown Saw the Baseball Game         American   \n",
       "15          1907                     Laughing Gas         American   \n",
       "16          1908         The Adventures of Dollie         American   \n",
       "\n",
       "                Director                               Cast    Genre  \\\n",
       "6        Edwin S. Porter                                NaN  western   \n",
       "7     Wallace McCutcheon                                NaN   comedy   \n",
       "14               Unknown                            Unknown   comedy   \n",
       "15  Edwin Stanton Porter    Bertha Regustus, Edward Boulden   comedy   \n",
       "16        D. W. Griffith  Arthur V. Johnson, Linda Arvidson    drama   \n",
       "\n",
       "                                            Wiki Page  \\\n",
       "6   https://en.wikipedia.org/wiki/The_Great_Train_...   \n",
       "7       https://en.wikipedia.org/wiki/The_Suburbanite   \n",
       "14  https://en.wikipedia.org/wiki/How_Brown_Saw_th...   \n",
       "15  https://en.wikipedia.org/wiki/Laughing_Gas_(fi...   \n",
       "16  https://en.wikipedia.org/wiki/The_Adventures_o...   \n",
       "\n",
       "                                                 Plot  \n",
       "6   The film opens with two bandits breaking into ...  \n",
       "7   The film is about a family who move to the sub...  \n",
       "14  Before heading out to a baseball game at a nea...  \n",
       "15  The plot is that of a black woman going to the...  \n",
       "16  On a beautiful summer day a father and mother ...  "
      ]
     },
     "execution_count": 8,
     "metadata": {},
     "output_type": "execute_result"
    }
   ],
   "source": [
    "movies.head()"
   ]
  },
  {
   "cell_type": "code",
   "execution_count": 9,
   "metadata": {},
   "outputs": [],
   "source": [
    "movies = movies.sample(frac=1) # Shuffles the data "
   ]
  },
  {
   "cell_type": "code",
   "execution_count": 10,
   "metadata": {},
   "outputs": [],
   "source": [
    "N_train = 600\n",
    "N_test = 200\n",
    "\n",
    "train = None\n",
    "test = None\n",
    "\n",
    "train = movies[movies['Genre'] == 'drama'][:N_train]\n",
    "test = movies[movies['Genre'] == 'drama'][N_train:]\n",
    "\n",
    "for genre in genres_to_consider[1:]:\n",
    "    tr = movies[movies['Genre'] == genre][:N_train]\n",
    "    te = movies[movies['Genre'] == genre][N_train:]\n",
    "    train = pd.concat([train, tr])\n",
    "    test = pd.concat([test, te])"
   ]
  },
  {
   "cell_type": "markdown",
   "metadata": {},
   "source": [
    "## Function to encode the genre to be used for LSTM classification"
   ]
  },
  {
   "cell_type": "code",
   "execution_count": 11,
   "metadata": {},
   "outputs": [],
   "source": [
    "def encodeLabel(df, col, label_col=\"Label\"):\n",
    "    df[col] = df[col].astype('category')\n",
    "    df[label_col] = df[col].cat.codes\n",
    "    return df"
   ]
  },
  {
   "cell_type": "code",
   "execution_count": 12,
   "metadata": {},
   "outputs": [],
   "source": [
    "train = encodeLabel(train, \"Genre\")\n",
    "test = encodeLabel(test, \"Genre\")"
   ]
  },
  {
   "cell_type": "code",
   "execution_count": 13,
   "metadata": {},
   "outputs": [],
   "source": [
    "train_plot_words = train['Plot'].tolist()\n",
    "train_labels = train['Label'].tolist()\n",
    "train_labels = np.array(train_labels)\n",
    "test_plot_words = test['Plot'].tolist()\n",
    "test_labels = test['Label'].tolist()\n",
    "test_labels = np.array(test_labels)"
   ]
  },
  {
   "cell_type": "code",
   "execution_count": 14,
   "metadata": {},
   "outputs": [],
   "source": [
    "d = {\n",
    "    \"(\" : \" ( \",\n",
    "    \")\" : \" ) \",\n",
    "    \"-\" : \" - \",\n",
    "    \",\" : \" , \",\n",
    "    \"\\n\" : \"\",\n",
    "    \"\\r\" : \"\",\n",
    "    \"\\\"\" : \" \\\" \",\n",
    "    \"'\" : \" ' \",\n",
    "    \".\" : \" . \",\n",
    "    \";\" : \" ; \",\n",
    "    \":\" : \" : \",\n",
    "    \"ENDOFARTICLE\": \"\"\n",
    "}"
   ]
  },
  {
   "cell_type": "code",
   "execution_count": 15,
   "metadata": {},
   "outputs": [],
   "source": [
    "def multiple_replace(d, text):\n",
    "    \n",
    "    regex = re.compile(\"(%s)\" % \"|\".join(map(re.escape, d.keys())))\n",
    "    \n",
    "    return regex.sub(lambda x: d[x.string[x.start():x.end()]], text) "
   ]
  },
  {
   "cell_type": "markdown",
   "metadata": {},
   "source": [
    "## Maps each word in a given plot to its embedding "
   ]
  },
  {
   "cell_type": "code",
   "execution_count": 16,
   "metadata": {},
   "outputs": [],
   "source": [
    "embedding_size = 512\n",
    "max_len = 7000"
   ]
  },
  {
   "cell_type": "code",
   "execution_count": 17,
   "metadata": {},
   "outputs": [],
   "source": [
    "def get_embeddings(plot_list, final_embeddings):\n",
    "    plot_embeddings = []\n",
    "    \n",
    "    for plot in plot_list:\n",
    "    \n",
    "        embeddings = []\n",
    "    \n",
    "        p = multiple_replace(d, plot)\n",
    "    \n",
    "        all_words = p.split(\" \")\n",
    "    \n",
    "        for word in all_words:\n",
    "        \n",
    "            index = vocab_dictionary.get(word.lower(), 0)\n",
    "        \n",
    "            embedding = final_embeddings[str(index)]\n",
    "            embeddings.append(embedding)\n",
    "            \n",
    "        plot_embeddings.append(embeddings)\n",
    "        \n",
    "    return plot_embeddings"
   ]
  },
  {
   "cell_type": "code",
   "execution_count": 34,
   "metadata": {},
   "outputs": [],
   "source": [
    "train_plot_embeddings = get_embeddings(train_plot_words, final_embeddings)\n",
    "train_plot_embeddings = np.array(train_plot_embeddings)"
   ]
  },
  {
   "cell_type": "code",
   "execution_count": 19,
   "metadata": {},
   "outputs": [],
   "source": [
    "test_plot_embeddings = get_embeddings(test_plot_words, final_embeddings)\n",
    "test_plot_embeddings = np.array(test_plot_embeddings)"
   ]
  },
  {
   "cell_type": "markdown",
   "metadata": {},
   "source": [
    "## Generates a batch of movies to be used for LSTM model"
   ]
  },
  {
   "cell_type": "code",
   "execution_count": 71,
   "metadata": {},
   "outputs": [],
   "source": [
    "def generate_batch(batch_size, values, labels):\n",
    "    \n",
    "    total = len(values)\n",
    "    \n",
    "    indices = np.random.choice(total, batch_size, replace=False)\n",
    "    \n",
    "    batch_values = np.take(values, indices)\n",
    "    \n",
    "    batch_labels = np.take(labels, indices)\n",
    "    \n",
    "    values = []\n",
    "    \n",
    "    pads = [[0 for _ in range(embedding_size)]]\n",
    "    \n",
    "    for val in batch_values:\n",
    "        \n",
    "        left = max_len - len(val)\n",
    "        \n",
    "        p = pads * left \n",
    "        \n",
    "        val.extend(p)\n",
    "        \n",
    "        values.append(val)\n",
    "    \n",
    "    return values, np.reshape(batch_labels, (batch_size, 1))"
   ]
  },
  {
   "cell_type": "code",
   "execution_count": 72,
   "metadata": {},
   "outputs": [],
   "source": [
    "vals, labels = generate_batch(1, train_plot_embeddings, train_labels)"
   ]
  },
  {
   "cell_type": "code",
   "execution_count": 84,
   "metadata": {},
   "outputs": [],
   "source": [
    "class LSTMModel():\n",
    "    \n",
    "    def __init__(self, rnn_size, output_size, learning_rate=1e-4):\n",
    "\n",
    "        self.inputs = tf.placeholder(tf.float32, shape=[None, max_len, embedding_size]) \n",
    "        self.labels = tf.placeholder(tf.int32, shape=[None, 1])\n",
    "    \n",
    "        lm_cell = tf.nn.rnn_cell.LSTMCell(rnn_size)\n",
    "    \n",
    "        outputs, states = tf.nn.dynamic_rnn(lm_cell, self.inputs, dtype=tf.float32) # add sequence length \n",
    "        \n",
    "        print(states)\n",
    "    \n",
    "        self.output_logits = tf.layers.dense(states[1], output_size)\n",
    "    \n",
    "        self.loss = tf.losses.sparse_softmax_cross_entropy(self.labels, self.output_logits)\n",
    "        \n",
    "        optimizer = tf.train.AdamOptimizer(learning_rate)\n",
    "        \n",
    "        self.global_step = tf.train.get_or_create_global_step()\n",
    "        self.train_op = optimizer.minimize(self.loss)\n",
    "        self.saver = tf.train.Saver()"
   ]
  },
  {
   "cell_type": "code",
   "execution_count": 85,
   "metadata": {},
   "outputs": [
    {
     "name": "stdout",
     "output_type": "stream",
     "text": [
      "LSTMStateTuple(c=<tf.Tensor 'rnn/while/Exit_3:0' shape=(?, 256) dtype=float32>, h=<tf.Tensor 'rnn/while/Exit_4:0' shape=(?, 256) dtype=float32>)\n"
     ]
    }
   ],
   "source": [
    "tf.reset_default_graph()\n",
    "model = LSTMModel(256, output_size, 1e-3)"
   ]
  },
  {
   "cell_type": "code",
   "execution_count": 86,
   "metadata": {},
   "outputs": [
    {
     "name": "stdout",
     "output_type": "stream",
     "text": [
      "7\n"
     ]
    }
   ],
   "source": [
    "print(output_size)"
   ]
  },
  {
   "cell_type": "code",
   "execution_count": null,
   "metadata": {},
   "outputs": [
    {
     "name": "stdout",
     "output_type": "stream",
     "text": [
      "1.9459101\n",
      "1.9419363\n",
      "1.9358057\n",
      "1.9247086\n"
     ]
    }
   ],
   "source": [
    "#inputs, labels = generate_batch(20, train_plot_embeddings, train_labels)\n",
    "with tf.Session() as sess:\n",
    "    \n",
    "    sess.run(tf.global_variables_initializer())\n",
    "    \n",
    "    d = {model.inputs: inputs, model.labels: labels}\n",
    "    \n",
    "    for i in range(10):\n",
    "    \n",
    "        loss, _ = sess.run([model.loss, model.train_op], feed_dict = d)\n",
    "    \n",
    "        print(loss)"
   ]
  },
  {
   "cell_type": "code",
   "execution_count": null,
   "metadata": {},
   "outputs": [],
   "source": [
    "tf.reset_default_graph()\n",
    "rnn_sizes = np.arange(128, 512, 4)\n",
    "learning_rate = 1e-3\n",
    "rnn_size_mean_error = []\n",
    "rnn_size_min_error = []\n",
    "    \n",
    "for rnn_size in rnn_sizes:\n",
    "    \n",
    "    tf.reset_default_graph()\n",
    "    \n",
    "    with tf.Session() as sess:\n",
    "    \n",
    "        model = LSTMModel(rnn_size, output_size, learning_rate)\n",
    "        sess.run(tf.global_variables_initializer())\n",
    "        \n",
    "        batch_size = 20\n",
    "        loss = []\n",
    "    \n",
    "        for i in range(10):\n",
    "        \n",
    "            inputs, labels, masked = generate_batch(20, train_values, train_labels)\n",
    "        \n",
    "            for j in range(5):\n",
    "    \n",
    "                d = {model.inputs: inputs, model.labels: labels, model.labels_mask: masked}\n",
    "        \n",
    "                train_loss, _ = sess.run([model.loss, model.train_op], feed_dict=d)\n",
    "        \n",
    "            loss.append(train_loss)\n",
    "            \n",
    "            if i == 9:\n",
    "                print(\"rnn size: \" + str(rnn_size) + \" loss: \" + str(train_loss))\n",
    "    \n",
    "        rnn_size_mean_error.append(np.mean(loss))\n",
    "        rnn_size_min_error.append(min(loss))"
   ]
  }
 ],
 "metadata": {
  "kernelspec": {
   "display_name": "Python 3",
   "language": "python",
   "name": "python3"
  },
  "language_info": {
   "codemirror_mode": {
    "name": "ipython",
    "version": 3
   },
   "file_extension": ".py",
   "mimetype": "text/x-python",
   "name": "python",
   "nbconvert_exporter": "python",
   "pygments_lexer": "ipython3",
   "version": "3.7.1"
  }
 },
 "nbformat": 4,
 "nbformat_minor": 2
}
