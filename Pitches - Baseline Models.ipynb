{
 "cells": [
  {
   "cell_type": "markdown",
   "metadata": {},
   "source": [
    "# This Notebook serves to examine baseline non-neural models for the Pitch Prediction task\n",
    "- Random Forest\n",
    "- Logistic Regression\n",
    "- Non-linear SVMs"
   ]
  },
  {
   "cell_type": "code",
   "execution_count": 10,
   "metadata": {},
   "outputs": [],
   "source": [
    "import tensorflow as tf \n",
    "import pandas as pd\n",
    "import numpy as np\n",
    "from sklearn.ensemble import RandomForestClassifier\n",
    "from sklearn.linear_model import LogisticRegression\n",
    "from sklearn.svm import SVC\n",
    "from sklearn.model_selection import train_test_split"
   ]
  },
  {
   "cell_type": "code",
   "execution_count": 11,
   "metadata": {},
   "outputs": [],
   "source": [
    "input_cols = ['PAOFINNING', 'PITCHOFPA', 'Pitcher Id Norm', 'PITCHERTHROWS', 'BATTERSIDE', 'INNING', 'OUTS', \n",
    "             'BALLS', 'STRIKES', 'PitchOutcome', 'RELSPEED', 'VERTRELANGLE', 'HORZRELANGLE', 'SPINRATE',\n",
    "             'SPINAXIS', 'RELHEIGHT', 'RELSIDE', 'EXTENSION', 'VERTBREAK', 'INDUCEDVERTBREAK', 'HORZBREAK',\n",
    "             'PLATELOCHEIGHT', 'PLATELOCSIDE', 'VERTAPPRANGLE', 'HORZAPPRANGLE', 'PFXX', 'PFXZ', 'X0', 'Z0',\n",
    "             'VX0', 'VY0', 'VZ0', 'AX0', 'AY0', 'AZ0', 'Batter Id Norm', 'NEXT BALLS', 'NEXT STRIKES', 'NEXT OUTS',\n",
    "             'NEXT INNING', 'PA NEXT', 'NEXT PITCHERID', 'Pitch Type', 'Next Pitch Label']"
   ]
  },
  {
   "cell_type": "code",
   "execution_count": 12,
   "metadata": {},
   "outputs": [],
   "source": [
    "train = pd.read_csv(\"pitchesTrain.csv\")\n",
    "test = pd.read_csv(\"pitchesTest.csv\")"
   ]
  },
  {
   "cell_type": "markdown",
   "metadata": {},
   "source": [
    "# First Model: Random Forest"
   ]
  },
  {
   "cell_type": "code",
   "execution_count": 15,
   "metadata": {},
   "outputs": [],
   "source": [
    "def RandomForest(train, test, input_cols=input_cols):\n",
    "    \n",
    "    X_train = train[input_cols[0:len(input_cols) - 1]]\n",
    "    y_train = train[input_cols[-1]]\n",
    "    \n",
    "    X_test = test[input_cols[0:len(input_cols) - 1]]\n",
    "    y_test = test[input_cols[-1]]\n",
    "    \n",
    "    RFModel = RandomForestClassifier(n_estimators=100, max_depth=10, random_state=0)\n",
    "    RFModel.fit(X_train, y_train)\n",
    "    \n",
    "    predictions = RFModel.predict(X_train)\n",
    "    train['predictions'] = predictions\n",
    "    \n",
    "    predictions_test = RFModel.predict(X_test)\n",
    "    test['predictions'] = predictions_test\n",
    "    \n",
    "    score_train = RFModel.score(X_train, y_train)\n",
    "    score_test = RFModel.score(X_test, y_test)\n",
    "    \n",
    "    print(\"Training accuracy: \" + str(score_train))\n",
    "    print(\"Testing accuracy: \" + str(score_test))\n",
    "    \n",
    "    return train, test, RFModel"
   ]
  },
  {
   "cell_type": "code",
   "execution_count": 16,
   "metadata": {},
   "outputs": [
    {
     "name": "stdout",
     "output_type": "stream",
     "text": [
      "Training accuracy: 0.44855835465459554\n",
      "Testing accuracy: 0.4453113468148367\n"
     ]
    }
   ],
   "source": [
    "_, _, RFModel = RandomForest(train, test, input_cols=input_cols)"
   ]
  },
  {
   "cell_type": "markdown",
   "metadata": {},
   "source": [
    "# Second Model: Logistic Regression"
   ]
  },
  {
   "cell_type": "code",
   "execution_count": 6,
   "metadata": {},
   "outputs": [],
   "source": [
    "def LogReg(train, test, input_cols=input_cols):\n",
    "    \n",
    "    X_train = train[input_cols[0:len(input_cols) - 1]]\n",
    "    y_train = train[input_cols[-1]]\n",
    "    \n",
    "    X_test = test[input_cols[0:len(input_cols) - 1]]\n",
    "    y_test = test[input_cols[-1]]\n",
    "    \n",
    "    LRModel = LogisticRegression(random_state=0, solver='lbfgs', multi_class='multinomial')\n",
    "    LRModel.fit(X_train, y_train)\n",
    "    \n",
    "    predictions = LRModel.predict(X_train)\n",
    "    train['predictions'] = predictions\n",
    "    \n",
    "    predictions_test = LRModel.predict(X_test)\n",
    "    test['predictions'] = predictions_test\n",
    "    \n",
    "    score_train = LRModel.score(X_train, y_train)\n",
    "    score_test = LRModel.score(X_test, y_test)\n",
    "    \n",
    "    print(\"Training accuracy: \" + str(score_train))\n",
    "    print(\"Testing accuracy: \" + str(score_test))\n",
    "    \n",
    "    return train, test, LRModel"
   ]
  },
  {
   "cell_type": "code",
   "execution_count": null,
   "metadata": {},
   "outputs": [],
   "source": [
    "_, _, LRModel = LogReg(input_df, input_cols=input_cols)"
   ]
  },
  {
   "cell_type": "markdown",
   "metadata": {},
   "source": [
    "# Third Model: Support Vector Machine"
   ]
  },
  {
   "cell_type": "code",
   "execution_count": 7,
   "metadata": {},
   "outputs": [],
   "source": [
    "def SVM(train, test, input_cols=input_cols):\n",
    "    \n",
    "    X_train = train[input_cols[0:len(input_cols) - 1]]\n",
    "    y_train = train[input_cols[-1]]\n",
    "    \n",
    "    X_test = test[input_cols[0:len(input_cols) - 1]]\n",
    "    y_test = test[input_cols[-1]]\n",
    "    \n",
    "    SVMModel = SVC(C=1.0, cache_size=200, class_weight=None, coef0=0.0, degree=3,kernel='linear', max_iter=-1, probability=True, random_state=None, shrinking=True, tol=0.001, verbose=False)\n",
    "    SVMModel.fit(X_train, y_train)\n",
    "    \n",
    "    predictions = SVMModel.predict(X_train)\n",
    "    train['predictions'] = predictions\n",
    "    \n",
    "    predictions_test = SVMModel.predict(X_test)\n",
    "    test['predictions'] = predictions_test\n",
    "    \n",
    "    score_train = SVMModel.score(X_train, y_train)\n",
    "    score_test = SVMModel.score(X_test, y_test)\n",
    "    \n",
    "    print(\"Training accuracy: \" + str(score_train))\n",
    "    print(\"Testing accuracy: \" + str(score_test))\n",
    "    \n",
    "    return train, test, SVMModel"
   ]
  },
  {
   "cell_type": "code",
   "execution_count": null,
   "metadata": {},
   "outputs": [],
   "source": [
    "_, _, SVMModel = SVM(input_df, input_cols=input_cols)"
   ]
  },
  {
   "cell_type": "code",
   "execution_count": null,
   "metadata": {},
   "outputs": [],
   "source": []
  }
 ],
 "metadata": {
  "kernelspec": {
   "display_name": "Python 3",
   "language": "python",
   "name": "python3"
  },
  "language_info": {
   "codemirror_mode": {
    "name": "ipython",
    "version": 3
   },
   "file_extension": ".py",
   "mimetype": "text/x-python",
   "name": "python",
   "nbconvert_exporter": "python",
   "pygments_lexer": "ipython3",
   "version": "3.7.1"
  }
 },
 "nbformat": 4,
 "nbformat_minor": 2
}
